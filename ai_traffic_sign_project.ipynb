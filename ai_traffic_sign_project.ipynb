{
  "nbformat": 4,
  "nbformat_minor": 0,
  "metadata": {
    "colab": {
      "provenance": []
    },
    "kernelspec": {
      "name": "python3",
      "display_name": "Python 3"
    },
    "language_info": {
      "name": "python"
    }
  },
  "cells": [
    {
      "cell_type": "code",
      "source": [
        "import os\n",
        "import random\n",
        "import numpy as np\n",
        "import torch\n",
        "import torch.nn as nn\n",
        "import torch.optim as optim\n",
        "from torch.utils.data import Dataset, DataLoader\n",
        "from torchvision import transforms, utils\n",
        "from PIL import Image\n",
        "import zipfile"
      ],
      "metadata": {
        "id": "hJ0rsvREE1Ck"
      },
      "execution_count": null,
      "outputs": []
    },
    {
      "cell_type": "code",
      "source": [
        "device = torch.device(\"cuda\" if torch.cuda.is_available() else \"cpu\")"
      ],
      "metadata": {
        "id": "nv6l2iIaE3Uk"
      },
      "execution_count": null,
      "outputs": []
    },
    {
      "cell_type": "code",
      "source": [
        "transform = transforms.Compose([\n",
        "    transforms.Resize((32, 32)),  \n",
        "    transforms.Grayscale(num_output_channels=1), \n",
        "    transforms.ToTensor(),  \n",
        "    transforms.Normalize((0.5,), (0.5,))  \n",
        "])"
      ],
      "metadata": {
        "id": "eqSvrZpoE3Rr"
      },
      "execution_count": null,
      "outputs": []
    },
    {
      "cell_type": "code",
      "source": [
        "class RoadSignDataset(Dataset):\n",
        "    def __init__(self, zip_file, transform=None):\n",
        "        self.zip_file = zip_file\n",
        "        self.transform = transform\n",
        "        self.class_names = []\n",
        "        self.samples = []\n",
        "        with zipfile.ZipFile(self.zip_file, \"r\") as zf:\n",
        "            for info in zf.infolist():\n",
        "                if not info.is_dir():\n",
        "                    class_name = info.filename.split(\"/\")[0]\n",
        "                    if class_name not in self.class_names:\n",
        "                        self.class_names.append(class_name)\n",
        "                    self.samples.append((info.filename, self.class_names.index(class_name)))\n",
        "\n",
        "    def __len__(self):\n",
        "        return len(self.samples)\n",
        "\n",
        "    def __getitem__(self, idx):\n",
        "        file_path, label = self.samples[idx]\n",
        "        with zipfile.ZipFile(self.zip_file, \"r\") as zf:\n",
        "            with zf.open(file_path) as f:\n",
        "                try:\n",
        "                    image = Image.open(f)\n",
        "                    if self.transform:\n",
        "                        image = self.transform(image)\n",
        "                    return (image, label)\n",
        "                except UnidentifiedImageError:\n",
        "                    return self.__getitem__(idx + 1)"
      ],
      "metadata": {
        "id": "jyD2nBKhE3O6"
      },
      "execution_count": null,
      "outputs": []
    },
    {
      "cell_type": "code",
      "source": [
        "train_dataset = RoadSignDataset(zip_file=\"/content/data/GTSRB_Final_Training_Images.zip\", transform=transform)\n",
        "test_dataset = RoadSignDataset(zip_file=\"/content/data/GTSRB_Final_Test_Images.zip\", transform=transform)"
      ],
      "metadata": {
        "id": "vMd61FE-E3L8"
      },
      "execution_count": null,
      "outputs": []
    },
    {
      "cell_type": "code",
      "source": [
        "train_loader = DataLoader(train_dataset, batch_size=64, shuffle=True, num_workers=4)\n",
        "test_loader = DataLoader(test_dataset, batch_size=64, shuffle=True, num_workers=4)"
      ],
      "metadata": {
        "id": "XNK8eX47E3I0"
      },
      "execution_count": null,
      "outputs": []
    },
    {
      "cell_type": "code",
      "source": [
        "class Net(nn.Module):\n",
        "    def __init__(self):\n",
        "        super(Net, self).__init__()\n",
        "        \n",
        "        self.conv1 = nn.Conv2d(1, 6, 3)\n",
        "        self.conv2 = nn.Conv2d(6, 16, 3)\n",
        "        self.fc1 = nn.Linear(36864, 120)  \n",
        "        self.fc2 = nn.Linear(120, 84)\n",
        "        self.fc3 = nn.Linear(84, len(train_dataset.class_names)\n",
        "\n",
        "    def forward(self, x):\n",
        "        x = F.max_pool2d(F.relu(self.conv1(x)), (2, 2))\n",
        "        x = F.max_pool2d(F.relu(self.conv2(x)), (2, 2))\n",
        "        x = x.view(-1, 36864)  \n",
        "        x = F.relu(self.fc1(x))\n",
        "        x = F.relu(self.fc2(x))\n",
        "        x = self.fc3(x)\n",
        "        return x\n",
        "\n",
        "model = Net().to(device)\n",
        "\n",
        "\n",
        "loss_function = nn.CrossEntropyLoss()\n",
        "optimizer = optim.SGD(model.parameters(), lr=0.001)\n",
        "\n",
        "\n",
        "num_epochs = 30\n",
        "print_interval = 10\n",
        "\n",
        "\n",
        "for epoch in range(num_epochs):\n",
        "    \n",
        "    model.train()\n",
        "\n",
        "    \n",
        "    for images, labels in train_loader:\n",
        "        images = images.to(device)\n",
        "        labels = labels.to(device)\n",
        "\n",
        "        optimizer.zero_grad()\n",
        "\n",
        "        outputs = model(images)\n",
        "\n",
        "        loss = loss_function(outputs, labels)\n",
        "\n",
        "        loss.backward()\n",
        "\n",
        "        optimizer.step()\n",
        "\n",
        "    if epoch % print_interval == 0:\n",
        "        print(f\"Epoch {epoch}: Loss = {loss.item():.4f}\")\n",
        "\n",
        "model.eval()\n",
        "\n",
        "correct = 0\n",
        "total_loss = 0\n",
        "\n",
        "\n",
        "with torch.no_grad():\n",
        "    for images, labels in test_loader:\n",
        "       \n",
        "        images = images.to(device)\n",
        "        labels = labels.to(device)\n",
        "\n",
        "   \n",
        "        outputs = model(images)\n",
        "\n",
        "    \n",
        "        loss = loss\n",
        "\n",
        "\n",
        "model.eval()\n",
        "\n",
        "\n",
        "correct = 0\n",
        "total_loss = 0\n",
        "\n",
        "with torch.no_grad():\n",
        "    for images, labels in test_loader:\n",
        "        \n",
        "        images = images.to(device)\n",
        "        labels = labels.to(device)\n",
        "\n",
        "     \n",
        "        outputs = model(images)\n",
        "\n",
        "       \n",
        "        loss = loss_function(outputs, labels)\n",
        "        total_loss += loss.item()\n",
        "\n",
        "        \n",
        "        _, predicted = torch.max(outputs.data, 1)\n",
        "\n",
        "        \n",
        "        correct += (predicted == labels).sum().item()\n",
        "\n",
        "\n",
        "average_loss = total_loss / len(test_loader)\n",
        "accuracy = correct / len(test_dataset)\n",
        "\n",
        "\n",
        "print(f\"Test loss: {average_loss:.4f}\")\n",
        "print(f\"Accuracy: {accuracy:.4f}\")"
      ],
      "metadata": {
        "id": "C6I2hvirEbFS"
      },
      "execution_count": null,
      "outputs": []
    },
    {
      "cell_type": "code",
      "source": [
        "model_resnet_18 = torchvision.models.resnet18(pretrained=False)\n",
        "loss_fn = torch.nn.CrossEntropyLoss()\n",
        "optimizer = torch.optim.SGD(model.parameters(), lr=0.001)\n",
        "epochs = 100\n",
        "\n",
        "epoch_count =[]\n",
        "loss_values = []\n",
        "test_loss_values = []\n",
        "\n",
        "for epoch in range(epochs):\n",
        "\tmodel_resnet_18.train()\n",
        "\ty_pred = model_resnet_18(X_train)\n",
        "\tloss = loss_fn(y_pred, y_train)\n",
        "\toptimizer.zero_grad()\n",
        "\tloss.backward()\n",
        "\toptimizer.step()\n",
        "\n",
        "\tmodel_0.eval() \n",
        "\twith torch.inference_mode(): \n",
        "\t\ttest_pred = model_resnet_18(X_test)\n",
        "\t\ttest_loss = loss_fn(test_pred, y_test)\n",
        "\t\tepoch_count.append(epoch)\n",
        "\t\tloss_values.append(loss)\n",
        "\t\ttest_loss_values.append(test_loss)\n",
        "\n",
        "print(f\"test {test_loss_values})"
      ],
      "metadata": {
        "id": "tKIUYfeavNkF"
      },
      "execution_count": null,
      "outputs": []
    },
    {
      "cell_type": "markdown",
      "source": [
        "**Resnet-34**"
      ],
      "metadata": {
        "id": "CJ0SvscrwYBm"
      }
    },
    {
      "cell_type": "code",
      "source": [
        "model_resnet_34 = torchvision.models.resnet34(pretrained=False)\n",
        "loss_fn = torch.nn.CrossEntropyLoss()\n",
        "optimizer = torch.optim.SGD(model.parameters(), lr=0.001)\n",
        "epochs = 100\n",
        "\n",
        "epoch_count =[]\n",
        "loss_values = []\n",
        "test_loss_values = []\n",
        "\n",
        "for epoch in range(epochs):\n",
        "\tmodel_resnet_34.train()\n",
        "\ty_pred = model_resnet_34(X_train)\n",
        "\tloss = loss_fn(y_pred, y_train)\n",
        "\toptimizer.zero_grad()\n",
        "\tloss.backward()\n",
        "\toptimizer.step()\n",
        "\n",
        "\tmodel_0.eval() \n",
        "\twith torch.inference_mode(): \n",
        "\t\ttest_pred = model_resnet_34(X_test)\n",
        "\t\ttest_loss = loss_fn(test_pred, y_test)\n",
        "\t\tepoch_count.append(epoch)\n",
        "\t\tloss_values.append(loss)\n",
        "\t\ttest_loss_values.append(test_loss)"
      ],
      "metadata": {
        "id": "NQ-X725RwbAb"
      },
      "execution_count": null,
      "outputs": []
    },
    {
      "cell_type": "markdown",
      "source": [
        "**Resnet-50**"
      ],
      "metadata": {
        "id": "TVjTCPCzxduU"
      }
    },
    {
      "cell_type": "code",
      "source": [
        "model_resnet_50 = torchvision.models.resnet50(pretrained=False)\n",
        "loss_fn = torch.nn.CrossEntropyLoss()\n",
        "optimizer = torch.optim.SGD(model.parameters(), lr=0.001)\n",
        "epochs = 100\n",
        "\n",
        "epoch_count =[]\n",
        "loss_values = []\n",
        "test_loss_values = []\n",
        "\n",
        "for epoch in range(epochs):\n",
        "\tmodel_resnet_50.train()\n",
        "\ty_pred = model_resnet_34(X_train)\n",
        "\tloss = loss_fn(y_pred, y_train)\n",
        "\toptimizer.zero_grad()\n",
        "\tloss.backward()\n",
        "\toptimizer.step()\n",
        "\n",
        "\tmodel_0.eval() \n",
        "\twith torch.inference_mode(): \n",
        "\t\ttest_pred = model_resnet_50(X_test)\n",
        "\t\ttest_loss = loss_fn(test_pred, y_test)\n",
        "\t\tepoch_count.append(epoch)\n",
        "\t\tloss_values.append(loss)\n",
        "\t\ttest_loss_values.append(test_loss)"
      ],
      "metadata": {
        "id": "mG0b24DXxeXT"
      },
      "execution_count": null,
      "outputs": []
    },
    {
      "cell_type": "markdown",
      "source": [
        "**VGG-11**"
      ],
      "metadata": {
        "id": "bRlQlyRZzDri"
      }
    },
    {
      "cell_type": "code",
      "source": [
        "model_vgg_11 = torchvision.models.vgg11(pretrained=False)\n",
        "loss_fn = torch.nn.CrossEntropyLoss()\n",
        "optimizer = torch.optim.SGD(model.parameters(), lr=0.001)\n",
        "epochs = 100\n",
        "\n",
        "epoch_count =[]\n",
        "loss_values = []\n",
        "test_loss_values = []\n",
        "\n",
        "for epoch in range(epochs):\n",
        "\tmodel_vgg_11.train()\n",
        "\ty_pred = model_vgg_11(X_train)\n",
        "\tloss = loss_fn(y_pred, y_train)\n",
        "\toptimizer.zero_grad()\n",
        "\tloss.backward()\n",
        "\toptimizer.step()\n",
        "\n",
        "\tmodel_0.eval() \n",
        "\twith torch.inference_mode(): \n",
        "\t\ttest_pred = model_vgg_11(X_test)\n",
        "\t\ttest_loss = loss_fn(test_pred, y_test)\n",
        "\t\tepoch_count.append(epoch)\n",
        "\t\tloss_values.append(loss)\n",
        "\t\ttest_loss_values.append(test_loss)"
      ],
      "metadata": {
        "id": "PF3VhO3FzEaI"
      },
      "execution_count": null,
      "outputs": []
    },
    {
      "cell_type": "markdown",
      "source": [
        "**VGG-13**"
      ],
      "metadata": {
        "id": "pQFhu6Zs3JVA"
      }
    },
    {
      "cell_type": "code",
      "source": [
        "model_vgg_13 = torchvision.models.vgg13(pretrained=False)\n",
        "loss_fn = torch.nn.CrossEntropyLoss()\n",
        "optimizer = torch.optim.SGD(model.parameters(), lr=0.001)\n",
        "epochs = 100\n",
        "\n",
        "epoch_count =[]\n",
        "loss_values = []\n",
        "test_loss_values = []\n",
        "\n",
        "for epoch in range(epochs):\n",
        "\tmodel_vgg_11.train()\n",
        "\ty_pred = model_vgg_13(X_train)\n",
        "\tloss = loss_fn(y_pred, y_train)\n",
        "\toptimizer.zero_grad()\n",
        "\tloss.backward()\n",
        "\toptimizer.step()\n",
        "\n",
        "\tmodel_0.eval() \n",
        "\twith torch.inference_mode(): \n",
        "\t\ttest_pred = model_vgg_13(X_test)\n",
        "\t\ttest_loss = loss_fn(test_pred, y_test)\n",
        "\t\tepoch_count.append(epoch)\n",
        "\t\tloss_values.append(loss)\n",
        "\t\ttest_loss_values.append(test_loss)"
      ],
      "metadata": {
        "id": "fbc2tW1k3Hu1"
      },
      "execution_count": null,
      "outputs": []
    },
    {
      "cell_type": "markdown",
      "source": [
        "**VGG-16**"
      ],
      "metadata": {
        "id": "xzweZyB93ZuI"
      }
    },
    {
      "cell_type": "code",
      "source": [
        "model_vgg_16 = torchvision.models.vgg16(pretrained=False)\n",
        "loss_fn = torch.nn.CrossEntropyLoss()\n",
        "optimizer = torch.optim.SGD(model.parameters(), lr=0.001)\n",
        "epochs = 100\n",
        "\n",
        "epoch_count =[]\n",
        "loss_values = []\n",
        "test_loss_values = []\n",
        "\n",
        "for epoch in range(epochs):\n",
        "\tmodel_vgg_16.train()\n",
        "\ty_pred = model_vgg_11(X_train)\n",
        "\tloss = loss_fn(y_pred, y_train)\n",
        "\toptimizer.zero_grad()\n",
        "\tloss.backward()\n",
        "\toptimizer.step()\n",
        "\n",
        "\tmodel_0.eval() \n",
        "\twith torch.inference_mode(): \n",
        "\t\ttest_pred = model_vgg_16(X_test)\n",
        "\t\ttest_loss = loss_fn(test_pred, y_test)\n",
        "\t\tepoch_count.append(epoch)\n",
        "\t\tloss_values.append(loss)\n",
        "\t\ttest_loss_values.append(test_loss)"
      ],
      "metadata": {
        "id": "9JZejIjC3HKy"
      },
      "execution_count": null,
      "outputs": []
    }
  ]
}